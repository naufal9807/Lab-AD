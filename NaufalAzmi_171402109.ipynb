{
 "cells": [
  {
   "cell_type": "code",
   "execution_count": 3,
   "metadata": {},
   "outputs": [
    {
     "name": "stdout",
     "output_type": "stream",
     "text": [
      "Baris 1 adalah 1\n",
      "Baris 2 adalah 2\n",
      "Baris 3 adalah 3\n",
      "Baris 4 adalah 5\n"
     ]
    }
   ],
   "source": [
    "class Fibonaci:\n",
    "    baris = 1\n",
    "    fib = 1\n",
    "    current = 1\n",
    "\n",
    "    def olah(mine):\n",
    "        print('Baris', mine.current , 'adalah', mine.fib)\n",
    "        newFib = minef.fib + mine.old;\n",
    "        mine.old = mine.fib;\n",
    "        mine.fib = newFib;\n",
    "        mine.current+=1\n",
    "        return mine.fib;\n",
    "\n",
    "fibon = Fibonaci()\n",
    "while(fibon.current < 9):\n",
    "    k = fibon.olah()"
   ]
  },
  {
   "cell_type": "code",
   "execution_count": null,
   "metadata": {},
   "outputs": [],
   "source": []
  }
 ],
 "metadata": {
  "kernelspec": {
   "display_name": "Python 3",
   "language": "python",
   "name": "python3"
  },
  "language_info": {
   "codemirror_mode": {
    "name": "ipython",
    "version": 3
   },
   "file_extension": ".py",
   "mimetype": "text/x-python",
   "name": "python",
   "nbconvert_exporter": "python",
   "pygments_lexer": "ipython3",
   "version": "3.6.3"
  }
 },
 "nbformat": 4,
 "nbformat_minor": 2
}
